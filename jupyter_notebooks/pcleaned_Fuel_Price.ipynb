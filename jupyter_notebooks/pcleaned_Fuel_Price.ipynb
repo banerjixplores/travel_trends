{
 "cells": [
  {
   "cell_type": "code",
   "execution_count": 1,
   "id": "29610be4",
   "metadata": {},
   "outputs": [],
   "source": [
    "import pandas as pd"
   ]
  },
  {
   "cell_type": "code",
   "execution_count": 2,
   "id": "7e04ab51",
   "metadata": {},
   "outputs": [
    {
     "data": {
      "text/html": [
       "<div>\n",
       "<style scoped>\n",
       "    .dataframe tbody tr th:only-of-type {\n",
       "        vertical-align: middle;\n",
       "    }\n",
       "\n",
       "    .dataframe tbody tr th {\n",
       "        vertical-align: top;\n",
       "    }\n",
       "\n",
       "    .dataframe thead th {\n",
       "        text-align: right;\n",
       "    }\n",
       "</style>\n",
       "<table border=\"1\" class=\"dataframe\">\n",
       "  <thead>\n",
       "    <tr style=\"text-align: right;\">\n",
       "      <th></th>\n",
       "      <th>Date</th>\n",
       "      <th>U.S. All Grades All Formulations Retail Gasoline Prices (Dollars per Gallon)</th>\n",
       "    </tr>\n",
       "  </thead>\n",
       "  <tbody>\n",
       "    <tr>\n",
       "      <th>0</th>\n",
       "      <td>1993-04-15</td>\n",
       "      <td>1.078</td>\n",
       "    </tr>\n",
       "    <tr>\n",
       "      <th>1</th>\n",
       "      <td>1993-05-15</td>\n",
       "      <td>1.100</td>\n",
       "    </tr>\n",
       "    <tr>\n",
       "      <th>2</th>\n",
       "      <td>1993-06-15</td>\n",
       "      <td>1.097</td>\n",
       "    </tr>\n",
       "    <tr>\n",
       "      <th>3</th>\n",
       "      <td>1993-07-15</td>\n",
       "      <td>1.078</td>\n",
       "    </tr>\n",
       "    <tr>\n",
       "      <th>4</th>\n",
       "      <td>1993-08-15</td>\n",
       "      <td>1.062</td>\n",
       "    </tr>\n",
       "  </tbody>\n",
       "</table>\n",
       "</div>"
      ],
      "text/plain": [
       "        Date  \\\n",
       "0 1993-04-15   \n",
       "1 1993-05-15   \n",
       "2 1993-06-15   \n",
       "3 1993-07-15   \n",
       "4 1993-08-15   \n",
       "\n",
       "   U.S. All Grades All Formulations Retail Gasoline Prices (Dollars per Gallon)  \n",
       "0                                              1.078                             \n",
       "1                                              1.100                             \n",
       "2                                              1.097                             \n",
       "3                                              1.078                             \n",
       "4                                              1.062                             "
      ]
     },
     "execution_count": 2,
     "metadata": {},
     "output_type": "execute_result"
    }
   ],
   "source": [
    "fuel_df = pd.read_excel('../data/raw/EMM_EPM0_PTE_NUS_DPGm.xls', sheet_name='Data 1', skiprows=2)\n",
    "fuel_df.head()"
   ]
  },
  {
   "cell_type": "code",
   "execution_count": 3,
   "id": "2a7a9d32",
   "metadata": {},
   "outputs": [],
   "source": [
    "fuel_df['Date'] = pd.to_datetime(fuel_df['Date'])\n",
    "fuel_df['Year'] = fuel_df['Date'].dt.year\n",
    "fuel_df['Month'] = fuel_df['Date'].dt.month\n",
    "fuel_df = fuel_df[(fuel_df['Year'] >= 2021) & (fuel_df['Year'] <= 2025)]"
   ]
  },
  {
   "cell_type": "code",
   "execution_count": 4,
   "id": "0f81218b",
   "metadata": {},
   "outputs": [],
   "source": [
    "fuel_df = fuel_df.rename(columns={'U.S. All Grades All Formulations Retail Gasoline Prices (Dollars per Gallon)': 'Fuel Price($/gal)'})"
   ]
  },
  {
   "cell_type": "code",
   "execution_count": 5,
   "id": "f68076ae",
   "metadata": {},
   "outputs": [],
   "source": [
    "#fuel_df.to_csv('fuel_price.csv', index=False,header=True)\n",
    "fuel_df.to_csv('../data/processed/fuel_price.csv', index=False, header=True)\n"
   ]
  }
 ],
 "metadata": {
  "kernelspec": {
   "display_name": ".venv",
   "language": "python",
   "name": "python3"
  },
  "language_info": {
   "codemirror_mode": {
    "name": "ipython",
    "version": 3
   },
   "file_extension": ".py",
   "mimetype": "text/x-python",
   "name": "python",
   "nbconvert_exporter": "python",
   "pygments_lexer": "ipython3",
   "version": "3.12.10"
  }
 },
 "nbformat": 4,
 "nbformat_minor": 5
}
